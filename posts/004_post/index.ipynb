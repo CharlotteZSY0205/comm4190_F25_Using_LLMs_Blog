{
 "cells": [
  {
   "cell_type": "raw",
   "id": "ceb26b6d-d77d-4a43-8a72-f9758596005e",
   "metadata": {
    "vscode": {
     "languageId": "raw"
    }
   },
   "source": [
    "---\n",
    "title: \"Can AI Build My Customized Website in One Click? I Wish!\"\n",
    "description: \"In this round of interaction with WIX, I took a step further compared to the previous one. I asked WIX to customize the website to be more personal and distinctive. Let’s see how the final result turns out.\"\n",
    "author: \"Shiyang Zhang\"\n",
    "date: \"09/16/2025\"\n",
    "categories:\n",
    "  - WIX\n",
    "  - prompting\n",
    "  - Design\n",
    "  - Website\n",
    "image: 4cover.png\n",
    "---"
   ]
  },
  {
   "cell_type": "markdown",
   "id": "e9d7e97a-f92e-411d-8c62-1608d7820af7",
   "metadata": {},
   "source": [
    "\n",
    "Compared to the previous round, this time I provided much more concrete and detailed requirements. I explained the purpose of designing this website, the pages it needed to include, its overall structure, and even the name I wanted for it. Unlike last time, I didn’t simply select one of the preset theme colors offered by WIX. Instead, when it came to choosing the theme color, I communicated directly with the embedded AI about my needs—namely, to create a graffiti-inspired website with plenty of collage elements and a youthful, vibrant feel -- I liked that at every stage of building the site, I could interact with the AI to adjust the details. \n",
    "\n",
    "Once the basics were set, I entered the site generation page. There is one clear strength which is consitent with the one in my first attempt: it followed my instructions carefully. The site was divided into two pages as I described in the promps, one for showcasing my academic work and another for my personal hobbies. Concerning the interface, the first version it produced looked just like what it generated in my first attemp, a design which looks fine but not with enough distinct. Therefore, I thought it might require more specific prompts in the design to reach to my expectation (after trying two more rounds of revisions, I realized the original draft was actually the best).\n",
    "\n",
    "However, when I tried to push it further by asking for an even more vibrant and artistic design — something bold and eye-catching — things went downhill. After refreshing my requests and feeding them back into WIX, the new results were ugly and uninspired, made up of nothing but basic shapes and lines with no sense of design.\n",
    "\n",
    "<div style=\"display: flex; justify-content: center; gap: 16px; align-items: center;\">\n",
    "  <img src=\"1.png\" width=\"35%\"/>\n",
    "  <img src=\"2.png\" width=\"40%\"/>\n",
    "  <img src=\"4cover.png\" width=\"40%\"/>\n",
    "</div>\n",
    "\n",
    "### Part 2. Trying a Different Style\n",
    "\n",
    "\n",
    "Still not satisfied, I thought, why not just switch to a completely different style — something with more existing pictures to work with? So I asked ChatGPT to help me craft a more descriptive prompt, hoping to transform the site into something with a European impressionist aesthetic.\n",
    "\n",
    "Here’s the prompt I used:\n",
    "\n",
    "> I'm updating the design to include a classic European pattern as the background, making it more sophisticated and detailed. I'll keep you updated on the progress.\n",
    "\n",
    "The result? Let’s just say it was “acceptable” at best, but nowhere near something I’d adopt. It looked more like an assignment turned in by a beginner in web design than a polished, professional product.\n",
    "\n",
    " <img src=\"4cover.png\" width=\"40%\"/>\n",
    "\n",
    "So I decided to narrow my focus and give more specific feedback. I chose one element and asked for a precise modification with this prompt:\n",
    "\n",
    "> The design is too basic. Add classic European pattern as the background.\n",
    "\n",
    "In theory, this should have only updated the background for that single element. But in practice, the AI modified the background of every element on the page. The first cover image looked fine, but as I scrolled further, the European patterns became denser and spread across large sections of the site. Some of the text became hard to read, and the overall impression was cluttered, mismatched, and lacking any sense of elegance.\n",
    "\n",
    "<div style=\"display: flex; justify-content: center; gap: 16px; align-items: center;\">\n",
    "  <img src=\"c.png\" width=\"35%\"/>\n",
    "  <img src=\"c2.png\" width=\"40%\"/>\n",
    "  <img src=\"c3.png\" width=\"40%\"/>\n",
    "</div>\n",
    "\n",
    "\n",
    "### Conclusion\n",
    "\n",
    "That was the moment I realized the limitations of this so-called AI website generator. It can meet basic, low-level demands, but if you’re aiming for a truly sophisticated, design-driven website, this tool simply isn’t capable of delivering.\n",
    "\n",
    "So in the end, I felt like I had been a little misled by that YouTube ad. But soon after, I discovered that this tool also allows you to build a personal website by directly editing an existing template. That gave me a new idea: instead of relying on the “one-click” generator, I could start with a ready-made template that already looked polished and well-designed, and then customize it. To make the site richer, I also plan to bring in images and music generated by other AI tools. I’ll share the details of this process in my upcoming blog posts.\n",
    "\n",
    "\n"
   ]
  },
  {
   "cell_type": "markdown",
   "id": "6f20ead1",
   "metadata": {
    "vscode": {
     "languageId": "raw"
    }
   },
   "source": []
  },
  {
   "cell_type": "markdown",
   "id": "08410940",
   "metadata": {},
   "source": []
  }
 ],
 "metadata": {
  "citation-manager": {
   "items": {}
  },
  "kernelspec": {
   "display_name": "Python 3",
   "language": "python",
   "name": "python3"
  },
  "language_info": {
   "codemirror_mode": {
    "name": "ipython",
    "version": 3
   },
   "file_extension": ".py",
   "mimetype": "text/x-python",
   "name": "python",
   "nbconvert_exporter": "python",
   "pygments_lexer": "ipython3",
   "version": "3.12.1"
  }
 },
 "nbformat": 4,
 "nbformat_minor": 5
}
