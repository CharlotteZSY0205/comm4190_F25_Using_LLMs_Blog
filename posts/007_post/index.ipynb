{
 "cells": [
  {
   "cell_type": "raw",
   "id": "ceb26b6d-d77d-4a43-8a72-f9758596005e",
   "metadata": {
    "vscode": {
     "languageId": "raw"
    }
   },
   "source": [
    "---\n",
    "title: \"Introducing The First Extension I Developed: Prompt Booster\"\n",
    "description: \"Prompt Booster is a lightweight browser plugin that helps you transform simple, vague, or overly dependent prompts into well-structured, thought-provoking ones—making your conversations with ChatGPT more effective and insightful.\"\n",
    "author: \"Shiyang Zhang\"\n",
    "date: \"09/25/2025\"\n",
    "categories:\n",
    "  - Coding\n",
    "  - Extension Devlopment\n",
    "  - Cline\n",
    "  - Codex\n",
    "image: 3.png\n",
    "---"
   ]
  },
  {
   "cell_type": "markdown",
   "id": "bb27c54e",
   "metadata": {},
   "source": []
  },
  {
   "cell_type": "markdown",
   "id": "463a6764",
   "metadata": {},
   "source": [
    "\n",
    "\n",
    "\n",
    "### What is Prompt Booster and why was it designed?\n",
    "\n",
    "Prompt Booster was created to help users get more out of their interactions with AI. Too often, prompts are either too shallow (outsourcing all the thinking to the AI) or too generic (leading to weak or superficial responses). Prompt Booster solves this problem by automatically enhancing prompts before they’re sent with one click, giving users a smoother and quicker way to achieve richer, more reliable outputs.\n",
    "\n",
    "<div style=\"display: flex; justify-content: center; gap: 16px; align-items: center;\">\n",
    "  <img src=\"1.png\" width=\"60%\"/>\n",
    "</div>\n",
    "\n",
    "##### **Two Core Features**\n",
    "\n",
    "1. **Prompt Boost**\n",
    "   Users can ask Prompt Booster to improve their prompts in ways that fit their goals. For example:\n",
    "\n",
    "   * *Transform a vague request into a comprehensive and evidence-based prompt that encourages ChatGPT to provide well-supported, verifiable responses.*\n",
    "   * *Reframe a lazy or over-reliant prompt into one that guides the user to complete the task themselves, rather than asking the AI to do all the work.*\n",
    "   * *Encourage deeper reflection or critical thinking by automatically rewriting prompts to push the AI toward more analytical or thought-provoking answers.*\n",
    "\n",
    "2. **Prompt Append**\n",
    "   With a single click, users can add predefined, repeatable requirements to any new input. This saves time and ensures consistency across different tasks. For example:\n",
    "\n",
    "    * *Translate: Translate the above text into natural, fluent English that reads as if written by a native speaker.*\n",
    "    * *Polish: Polish and refine the language to make it smoother, more professional, and stylistically consistent.*\n",
    "    * *Summarize: Summarize the content clearly and concisely, highlighting the key points in a structured way.*\n",
    "    * *Simplify: Rewrite this paragraph so it is easier to understand, using simpler words and clearer sentence structures.*\n",
    "\n",
    "\n",
    "\n",
    "\n",
    "### How to Get Started with Prompt Booster\n",
    "\n",
    "#### **1. Install & Connect**\n",
    "\n",
    "First things first—get Prompt Booster onto your browser.\n",
    "\n",
    "* Add <code style=\"background:#f2f4f8;border-radius:6px;padding:2px 6px;color:#0b66ff;\">Prompt Booster</code> to Chrome and pin it to your toolbar so it’s always just one click away.\n",
    "* Open the settings page (look for the little gear) and paste in your API key.\n",
    "* Not sure where to find your API key? No problem—[here’s a quick guide](https://www.merge.dev/blog/chatgpt-api-key) that walks you through it.\n",
    "\n",
    "<div style=\"display: flex; justify-content: center; gap: 16px; align-items: center;\">\n",
    "  <img src=\"2.png\" width=\"60%\"/>\n",
    "</div>\n",
    "\n",
    "> This is the main interface of the software. In terms of visual design, I made the buttons consistent with ChatGPT’s own buttons to achieve a clean and sophisticated style. I chose purple as the primary color—not only because it conveys a sense of elegance, but also because of my personal connection to my undergraduate alma mater, The Chinese University of Hong Kong, Shenzhen, where purple is one of the theme colors in its emblem. I also added a gear button so that users can quickly access the plugin’s settings. Otherwise, using Chrome’s built-in method would be too cumbersome, since users would have to click *Extension*, then *More Options*, and finally *Options*.\n",
    "\n",
    "#### **2. Configure Your Prompt Modes**\n",
    "\n",
    "This is where the fun begins—you can customize Prompt Booster to work exactly the way you want.\n",
    "\n",
    "* Go to <code style=\"background:#f2f4f8;border-radius:6px;padding:2px 6px;color:#0b66ff;\">My Prompts</code> to create or edit both <code style=\"background:#f2f4f8;border-radius:6px;padding:2px 6px;color:#0b66ff;\">Boost Prompts</code> and <code style=\"background:#f2f4f8;border-radius:6px;padding:2px 6px;color:#0b66ff;\">Append Prompts</code>.\n",
    "* Drag and drop them around with the <code style=\"background:#f2f4f8;border-radius:6px;padding:2px 6px;color:#ff8c42;\">three-line icon</code> to reorder.\n",
    "* Pro tip: the top three prompts become quick-access buttons right in your ChatGPT input box, so keep your favorites up there.\n",
    "\n",
    "<div style=\"display: flex; justify-content: center; gap: 16px; align-items: center;\">\n",
    "  <img src=\"3.png\" width=\"45%\"/>\n",
    "</div>\n",
    "\n",
    "#### **Boost Mode: Smarten Up Your Prompts**\n",
    "\n",
    "Ever typed something vague into ChatGPT and wished it came out sharper, deeper, or more structured? That’s exactly what **Boost Mode** is for.\n",
    "\n",
    "* Just tap the <code style=\"background:#f2f4f8;border-radius:6px;padding:2px 6px;color:#0b66ff;\">Boost</code> button from the quick options.\n",
    "* Hit the <code style=\"background:#f2f4f8;border-radius:6px;padding:2px 6px;color:#0b66ff;\">Prompt Boost</code> button or press <code style=\"background:#f2f4f8;border-radius:6px;padding:2px 6px;color:#d04747;\">⌥/Alt + Enter</code> to instantly upgrade your prompt.\n",
    "* If you enable <code style=\"background:#f2f4f8;border-radius:6px;padding:2px 6px;color:#0b66ff;\">Prompt Review</code>, you’ll see your <code style=\"background:#f2f4f8;border-radius:6px;padding:2px 6px;color:#0b66ff;\">original vs. boosted prompt</code> side by side—super handy for comparing.\n",
    "* You can choose <code style=\"background:#f2f4f8;border-radius:6px;padding:2px 6px;color:#0b66ff;\">Use Original</code> or <code style=\"background:#f2f4f8;border-radius:6px;padding:2px 6px;color:#0b66ff;\">Use Boosted</code>, or just press <code style=\"background:#f2f4f8;border-radius:6px;padding:2px 6px;color:#d04747;\">⌥/Alt + Enter</code> again to send whichever you like.\n",
    "* Not quite there yet? Click <code style=\"background:#f2f4f8;border-radius:6px;padding:2px 6px;color:#0b66ff;\">Reboost</code> to spin up another optimized version until it feels right.\n",
    "\n",
    "<div style=\"display: flex; justify-content: center; gap: 16px; align-items: center;\">\n",
    "  <img src=\"4.png\" width=\"40%\"/>\n",
    "  <img src=\"5.png\" width=\"50%\"/>\n",
    "</div>\n",
    "\n",
    "> Here I added a Prompt Review feature that lets users compare their original prompt with the revised one. On the one hand, this gives them the option to still use their own prompt. On the other hand, it allows them to see what the revised prompt looks like, making it more likely they’ll use it as a reference to learn how to craft more effective or better-tailored prompts. To prevent situations where users are dissatisfied with the revised prompt, I also added a Reboost function, which lets them request another revision. I also added keyboard shortcuts. At first, the shortcut for sending a prompt modified by Prompt Booster was Enter. But during my own use, I realized I don’t always need Prompt Booster. So I kept Enter for sending my original prompt, and added Option + Enter for sending the boosted version in the selected mode. This way, users stay in control while still having the quickest way to use Prompt Booster.\n",
    "\n",
    "\n",
    "#### **Append Mode: Add Your Personal Touch**\n",
    "\n",
    "Sometimes you don’t want your whole prompt rewritten—you just want to make sure a certain instruction always gets added. That’s where **Append Mode** shines.\n",
    "\n",
    "* Select <code style=\"background:#f2f4f8;border-radius:6px;padding:2px 6px;color:#0b66ff;\">Append</code> from the quick buttons.\n",
    "* Click <code style=\"background:#f2f4f8;border-radius:6px;padding:2px 6px;color:#0b66ff;\">Prompt Boost</code> or press <code style=\"background:#f2f4f8;border-radius:6px;padding:2px 6px;color:#d04747;\">⌥/Alt + Enter</code>—your input goes through exactly as written, but with your chosen “append rules” automatically tacked on.\n",
    "\n",
    "<div style=\"display: flex; justify-content: center; gap: 16px; align-items: center;\">\n",
    "  <img src=\"7.png\" width=\"40%\"/>\n",
    "  <img src=\"9.png\" width=\"45%\"/>\n",
    "</div>\n",
    "\n",
    "\n",
    "✨ **And that’s it—you’re ready to roll! With Prompt Booster, you can choose between fully boosting your prompt for depth and quality or simply appending your go-to rules with a single click.**\n",
    "\n",
    "**Your prompts, your way—just smarter.**\n",
    "\n",
    "> Next, I’m going to collaborate with Nano Banana to create the logo for this extension, and I’ll also submit it for review and try to publish it so that it can actually be used by the public.\n",
    "\n"
   ]
  },
  {
   "cell_type": "markdown",
   "id": "6f20ead1",
   "metadata": {
    "vscode": {
     "languageId": "raw"
    }
   },
   "source": []
  },
  {
   "cell_type": "markdown",
   "id": "08410940",
   "metadata": {},
   "source": [
    "\n",
    "````"
   ]
  }
 ],
 "metadata": {
  "citation-manager": {
   "items": {}
  },
  "kernelspec": {
   "display_name": "Python 3",
   "language": "python",
   "name": "python3"
  },
  "language_info": {
   "codemirror_mode": {
    "name": "ipython",
    "version": 3
   },
   "file_extension": ".py",
   "mimetype": "text/x-python",
   "name": "python",
   "nbconvert_exporter": "python",
   "pygments_lexer": "ipython3",
   "version": "3.12.1"
  }
 },
 "nbformat": 4,
 "nbformat_minor": 5
}
