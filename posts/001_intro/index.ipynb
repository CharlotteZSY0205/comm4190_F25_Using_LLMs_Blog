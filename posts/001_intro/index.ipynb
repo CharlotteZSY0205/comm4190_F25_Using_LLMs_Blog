{
 "cells": [
  {
   "cell_type": "raw",
   "id": "1d0d9835-dfc3-43de-9bae-9c09915b795b",
   "metadata": {},
   "source": [
    "---\n",
    "title: \"It's just a fact\"\n",
    "author: \"Matthew Brook O'Donnell\"\n",
    "date: \"01-29-24\"\n",
    "format:\n",
    "   html:\n",
    "      code-fold: true\n",
    "jupyter: python3\n",
    "---"
   ]
  },
  {
   "cell_type": "markdown",
   "id": "a5db2a3a-fe34-46eb-9dd9-63d4795fd532",
   "metadata": {
    "editable": true,
    "slideshow": {
     "slide_type": ""
    },
    "tags": []
   },
   "source": [
    "# What Niki said...\n",
    "\n",
    "![](haley_mtp.png)"
   ]
  },
  {
   "cell_type": "markdown",
   "id": "76606270-0055-45b4-a712-3dad5a08af1f",
   "metadata": {},
   "source": [
    "In a _Meet the Press_ interview on Sunday 28th January, 2024, Republican primary candidate for President, Niki Haley said:\n",
    "\n",
    "> That's exactly why we don't need two people who are in their 80s running for president. It's not being disrespectful it's the fact that when you are 80 you are declining. It's just a fact.\n",
    "\n",
    "Please note that this post is **definitely not** intended to be political or even to specifically target Haley, but rather to look at how various LLMs respond to prompts exhibiting language and beliefs that might be considered ageist."
   ]
  },
  {
   "cell_type": "markdown",
   "id": "020a4e05-1ab4-48da-a013-33207d409fea",
   "metadata": {},
   "source": [
    "### Some LLM responses\n",
    "\n",
    "Just using the above quote without any framing or citation produces these kinds of responses:\n",
    "\n",
    "##### LLM: mixtral-8x7b-instruct-v0.1  (Open Source)\n",
    "Source: https://chat.lmsys.org/ (default parameters: Temperature 0.7, Top P 1, Max Output Tokens 1024)\n",
    "\n",
    "```\n",
    "I understand your perspective that physical and mental abilities may decline as people age, which is a valid concern when choosing political leaders. However, it's important to remember that age should not be the sole determinant of a person's abilities or competence. Many individuals in their 80s remain sharp, active, and engaged in society.\n",
    "\n",
    "When evaluating political candidates, it's crucial to consider their experience, wisdom, and the policies they stand for, rather than making assumptions based solely on their age. It's also essential to respect individual autonomy and dignity, allowing elderly candidates to make their own decisions about their ability to serve in public office.\n",
    "\n",
    "In my aim to promote fairness and positivity, I encourage a well-informed and respectful dialogue about candidates, taking into account various factors, including their policy proposals, integrity, and leadership skills, instead of focusing exclusively on age.\n",
    "```\n",
    "\n",
    "\n",
    "##### LLM: llama-2-7b-chat (Open Source)\n",
    "Source: https://chat.lmsys.org/\n",
    "\n",
    "\n",
    "```\n",
    "I understand your point, and it is a valid concern. However, I don't think it's fair to make blanket statements about people in their 80s being unable to hold public office. Every person is different, and their abilities and capacities can vary greatly regardless of their age.\n",
    "\n",
    "It's important to consider that older adults have a wealth of experience and knowledge that can be valuable in leadership roles. They have lived through different times and have a unique perspective on the world that can be an asset in making decisions. Additionally, many older adults are still mentally sharp and physically capable of handling the demands of public office.\n",
    "\n",
    "It's also worth noting that ageism, like any other form of discrimination, is not acceptable. It's important to evaluate candidates based on their qualifications, skills, and abilities, rather than their age.\n",
    "\n",
    "In the end, it's up to the voters to decide who they think is the best candidate for the job, regardless of their age. It's important to give all candidates a fair chance and to evaluate them based on their qualifications and abilities, rather than making assumptions based on their age.\n",
    "```\n",
    "\n",
    "#### Observations\n",
    "* The structure of the two responses are similar\n",
    "  1. Polite acceptance that statement may reflect potentially valid concerns and opinions but with a clear counter argument (`However...`) to establish that age need not imply decline or disqualification from office.\n",
    "  2. A paragraph explaining that age may actually be a positive benefit for public office.\n",
    "  3. Importance of considering a range of characteristics and qualifications beside age.\n",
    "  4. Emphasis on the role of voters in democratic system.\n",
    "  <br/><br/>\n",
    "\n",
    "* Note that the Llama2 response makes explicit mention of the word `ageism` and that it is a form in unacceptable discrimination whereas the Mixtral response has an implied "
   ]
  },
  {
   "cell_type": "markdown",
   "id": "b7dada8c-9692-4784-a684-b825660cc5b7",
   "metadata": {},
   "source": [
    "**Now, comparing these with two closed, commerical LLMs**\n",
    "\n",
    "\n",
    "##### LLM: gpt-4-turbo\n",
    "Source: https://chat.lmsys.org/\n",
    "\n",
    "```\n",
    "It's understandable that you express concerns about the age of political leaders, as it's a legitimate topic for public discussion. The age and health of political candidates, particularly those running for demanding offices like the presidency, can be crucial factors for voters to consider. It is a fact that as people age, they may experience a decline in certain cognitive or physical abilities, and these changes can vary widely from person to person.\n",
    "\n",
    "However, age is just one factor among many that voters might weigh when choosing a candidate. Experience, policy positions, leadership abilities, and the capacity to govern effectively are also important considerations. In democratic societies, it's ultimately up to the electorate to decide which candidates they believe are most fit to hold office, taking into account all relevant factors, including age.\n",
    "\n",
    "It's worth noting that age alone does not determine a person's capability to serve in a public role. There have been numerous cases of senior leaders who have performed their duties effectively. Furthermore, political leaders often work within a team context and are supported by a staff of advisors and experts who can help manage the workload and provide counsel.\n",
    "\n",
    "It's also important to recognize that discussions about age should be approached with sensitivity and respect for the dignity of individuals, as ageism can be a form of discrimination. Ultimately, the democratic process allows for the evaluation of each candidate on a case-by-case basis, and it is up to voters to make informed decisions based on a comprehensive assessment of each candidate's overall fitness for office.\n",
    "\n",
    "```\n",
    "\n",
    "##### LLM: gemini-pro-dev-api\n",
    "Source: https://chat.lmsys.org/\n",
    "\n",
    "```\n",
    "Age is an important factor to consider when evaluating candidates for political office. There are both advantages and disadvantages to having older candidates. On the one hand, older candidates may have more experience and wisdom than younger candidates. They may also be more likely to have a long-term perspective and to be less swayed by short-term political considerations. On the other hand, older candidates may be less in touch with the needs and concerns of younger voters. They may also be more likely to be set in their ways and to be resistant to change.\n",
    "\n",
    "Ultimately, the decision of whether or not to vote for an older candidate is a personal one. There are valid arguments to be made on both sides of the issue. Voters should weigh the advantages and disadvantages carefully and make the decision that they believe is best for them and for their country.\n",
    "\n",
    "It is important to note that there is no one-size-fits-all answer to the question of whether or not older candidates are suitable for political office. Some older candidates may be more capable and qualified than some younger candidates, and vice versa. It is important to evaluate each candidate on their individual merits, rather than making generalizations based on age.\n",
    "\n",
    "It is also important to avoid making ageist comments or stereotypes. Ageism is a form of discrimination that can be just as harmful as other forms of discrimination. Older people should be treated with respect and dignity, regardless of their political beliefs or qualifications for office.\n",
    "\n",
    "```\n",
    "\n",
    "#### Observations\n",
    "\n",
    "* The structure and components of the responses are very similar to the two from Mixtral and Llama2.\n",
    "\n",
    "* Both GPT4 and Gemini use the indirect third person (_it_) (`It's understandable`) in response to the statement compared to the first person (`I understand your point/perspective`) in the other two model responses.\n",
    "\n",
    "* Both models contain a warning against and explicit mention of `ageism`."
   ]
  },
  {
   "cell_type": "code",
   "execution_count": null,
   "id": "e7309a20-d39a-476c-9de6-3406e81dd7cd",
   "metadata": {},
   "outputs": [],
   "source": []
  }
 ],
 "metadata": {
  "citation-manager": {
   "items": {}
  },
  "kernelspec": {
   "display_name": "Python 3.8",
   "language": "python",
   "name": "python3"
  },
  "language_info": {
   "codemirror_mode": {
    "name": "ipython",
    "version": 3
   },
   "file_extension": ".py",
   "mimetype": "text/x-python",
   "name": "python",
   "nbconvert_exporter": "python",
   "pygments_lexer": "ipython3",
   "version": "3.8.8"
  }
 },
 "nbformat": 4,
 "nbformat_minor": 5
}
