{
 "cells": [
  {
   "cell_type": "raw",
   "id": "1d0d9835-dfc3-43de-9bae-9c09915b795b",
   "metadata": {},
   "source": [
    "---\n",
    "title: \"It's just a fact\"\n",
    "author: \"Matthew Brook O'Donnell\"\n",
    "date: 1-29-24\n",
    "format:\n",
    "   html:\n",
    "      code-fold: true\n",
    "jupyter: python3\n",
    "---"
   ]
  },
  {
   "cell_type": "markdown",
   "id": "a5db2a3a-fe34-46eb-9dd9-63d4795fd532",
   "metadata": {
    "editable": true,
    "slideshow": {
     "slide_type": ""
    },
    "tags": []
   },
   "source": [
    "# Testing"
   ]
  },
  {
   "cell_type": "markdown",
   "id": "0f00c6c0-e3ed-4e2f-afc4-5dd170a106df",
   "metadata": {},
   "source": [
    "```{mermaid}\n",
    "flowchart LR\n",
    "  A[Hard edge] --> B(Round edge)\n",
    "  B --> C{Decision}\n",
    "  C --> D[Result one]\n",
    "  C --> E[Result two]\n",
    "```"
   ]
  },
  {
   "cell_type": "code",
   "execution_count": null,
   "id": "565382e8-484c-4129-8552-c6d4fac482dd",
   "metadata": {},
   "outputs": [],
   "source": []
  }
 ],
 "metadata": {
  "kernelspec": {
   "display_name": "Python 3 (ipykernel)",
   "language": "python",
   "name": "python3"
  },
  "language_info": {
   "codemirror_mode": {
    "name": "ipython",
    "version": 3
   },
   "file_extension": ".py",
   "mimetype": "text/x-python",
   "name": "python",
   "nbconvert_exporter": "python",
   "pygments_lexer": "ipython3",
   "version": "3.11.2"
  }
 },
 "nbformat": 4,
 "nbformat_minor": 5
}
