{
 "cells": [
  {
   "cell_type": "raw",
   "id": "ceb26b6d-d77d-4a43-8a72-f9758596005e",
   "metadata": {
    "vscode": {
     "languageId": "raw"
    }
   },
   "source": [
    "---\n",
    "title: \"Who do you think I am -- A self-introduction drafted by ChatGPT\"\n",
    "description: \"I have interacted with ChatGPT since it was brought to the market. I usually chat with it about academic projects, searching for ideas, evaluations, suggestions, and refinements. Other time, I seek help from it concerning any questions I encounter in daily life. This time, instead of asking questions, I prompted ChatGPT to describe the ME in its eyes, both in text and in picture. Let's see what it would say.\"\n",
    "author: \"Shiyang Zhang\"\n",
    "date: \"09/12/2025\"\n",
    "categories:\n",
    "  - LLMs\n",
    "  - prompting\n",
    "  - logic\n",
    "---"
   ]
  },
  {
   "cell_type": "markdown",
   "id": "b58618eb-dd92-483b-a802-cf2083e61d6d",
   "metadata": {},
   "source": [
    "## Prompts One -- Introduction of me\n",
    "\n",
    "### I asked...\n",
    "**Can you give me a detailed introduction based on all of our previous interactions?**"
   ]
  },
  {
   "cell_type": "markdown",
   "id": "e9d7e97a-f92e-411d-8c62-1608d7820af7",
   "metadata": {},
   "source": [
    "### ChatGPT answered...\n",
    "Here’s a detailed introduction of you based on everything I’ve learned from our past interactions:\n",
    "\n",
    "\n",
    "#### Background and Education\n",
    "\n",
    "You are **Zhang Shiyang (Charlotte)**, a 22-year-old graduate student in the **Learning Sciences & Technologies (LST)** program at the University of Pennsylvania’s Graduate School of Education. You came to the U.S. for undergraduate studies, where you attended a highly competitive program at Columbia University in engineering, and later studied at Wharton, gaining both academic rigor and professional direction. Your major back in China was translation, and you bring that multilingual expertise into your research and writing.\n",
    "\n",
    "You are currently preparing for **PhD applications (targeting Fall 2026 entry)** in **Learning Sciences, Educational Technology, and AI in Education**, considering programs at Stanford, Berkeley, UW, USC, and others. You’re building a strong portfolio with research publications, systematic reviews, and design projects, while also pursuing RA/GA roles and EdTech internships.\n",
    "\n",
    "> Comments: ChatGPT managed to capture some details about me accurately — my Chinese and English names are correct, as well as my program and school. However, it misstated my age: I am 23, not 22. I believe this error comes from the information I provided last year while applying to graduate schools in the U.S. At that time, during my senior year in 2024, I was indeed 22, and the system seems to have kept that in memory. Regarding my previous educational background, though, some of the descriptions are entirely fabricated.\n",
    "\n",
    "\n",
    "\n",
    "#### Methodological Expertise\n",
    "\n",
    "You are deeply skilled in **qualitative and mixed-methods research**, employing ethnography, thematic coding (NVivo), field notes, interviews, and screen-recording analysis. You focus on **codebook reliability (e.g., Cohen’s Kappa)** and combine deductive and inductive coding. You also handle **systematic reviews (PRISMA flow)** and experiment with **Python automation** for data visualization (annotation heatmaps, linguistic metrics like Advanced Guiraud, MLTU, semantic overlap, Genbit score).\n",
    "\n",
    "> Comments: Since I often use ChatGPT for brainstorming during my studies and research, and frequently seek its opinions and suggestions, it has accumulated a large amount of data about my academic work. That’s why its summary and description of this part are entirely accurate. I can clearly see that the methodologies it mentioned — including NVivo, Few Notes, and interviews — are indeed the ones I have applied in my recent three research projects.\n",
    "\n",
    "#### Academic Identity\n",
    "\n",
    "Across your work, you consistently explore:\n",
    "\n",
    "* **Metacognition:** How students plan, monitor, and evaluate their use of AI in writing.\n",
    "* **Agency:** How students negotiate autonomy, dependency, and trust in human-AI collaboration.\n",
    "* **Ethics:** Academic integrity, AI bias, adversarial risks, and responsible design.\n",
    "* **Constructivism and Socioculturalism:** Viewing learning as an active, social process rather than passive absorption.\n",
    "\n",
    "> Comments: This part is also largely accurate, but the last item is not actually part of my research field — it was reading material from one of my courses. I don’t think ChatGPT can clearly distinguish between what comes from coursework and what comes from my academic research. Moreover, its description of my academic identity seems to be based mostly on my more recent interactions. This suggests that its memory may not prioritize drawing on older interaction data.\n",
    "#### Personal and Creative Side\n",
    "\n",
    "You balance your academic intensity with **theatre and music**, auditioning for roles (e.g., *School of Rock*, *A Doll’s House*), practicing songs, and analyzing scripts. You also enjoy **visual design and photography**, often blending these with academic projects (logos, covers, Ghibli-style art). You’re a curious and active traveler, weaving academic conferences (e.g., EARLI 2025 in Austria) with cultural exploration.\n",
    "\n",
    "> Comments: Overall, the description aligns very well with my past interactions with ChatGPT, but the same limitation remains — it seems to only cover roughly the past three months.\n",
    "\n",
    "#### Communication Style\n",
    "\n",
    "In our interactions, you’ve shown a strong preference for:\n",
    "\n",
    "* **Academic precision:** structured arguments, APA 7 citations, codebooks, PRISMA diagrams.\n",
    "* **Critical feedback:** you explicitly want me to act as your **academic advisor—strict and honest**, not sugarcoating weaknesses.\n",
    "* **Bilingual flexibility:** you often draft in Chinese, requesting natural English translations.\n",
    "* **Iteration:** you refine outputs multiple times, pushing toward more polished and academically rigorous results.\n",
    "\n",
    "> Comments: At this point, I realize that all the traits ChatGPT summarized about me are either neutral or mostly positive. It did not mention any negative characteristics. This may be related to its underlying pre-prompt design, which tends to avoid generating content that could be perceived as overly critical or as unfavorable evaluations of the user.\n",
    "\n",
    "\n",
    "\n",
    "\n",
    "\n",
    "Most likely you answered **purple**...\n",
    "\n",
    "But it is possible you first said **green** (don't worry if you did it is quite a common response!)\n",
    "\n",
    "### How do we do it?\n",
    "\n",
    "It's a verbal visual problem that requires some deliberation and most likely for us to create a visual image of a stack of boxes as a reasoning aid.\n",
    "\n",
    "Notice also the complexity of the language used in the prompt to describe the scene. The use of natural language as opposed to a formal/logical calculus does hold the potential for ambiguity (multiple interpretations) and inexactness. However, it is the most normal/natural, efficient and broadly accessible way of communicating such information.\n",
    "\n",
    "**Notice**\n",
    "1. The use of _anaphor_ or _reference_.\n",
    "    - `Three BOXES -> a pink/purple/green ONE` as opposed to `a pink box, a purple box and a green box`.\n",
    "    - `The PINK ONE is in the middle ... the purple` {BOX} `below IT` {the pink box}\n",
    "    \n",
    "    We tend to try and avoid this kind of repetition to make our speech more coherent.\n",
    "\n",
    "2. Although the description in language may not be entirely concise, there is no real ambiguity as to how the boxes can be arranged. It must be:\n",
    "   |   Box  | Stack position |\n",
    "   | --- | --- |\n",
    "   | GREEN | top |\n",
    "   | PINK  | middle |\n",
    "   | PURPLE | bottom |"
   ]
  },
  {
   "cell_type": "markdown",
   "id": "6041905d",
   "metadata": {},
   "source": []
  },
  {
   "cell_type": "markdown",
   "id": "28b4f8ce-0eb8-47b7-ab32-026a9efd5f34",
   "metadata": {},
   "source": [
    "### How do LLMs response to the prompt?\n",
    "\n",
    "**GPT3.5 Turbo**\n",
    "\n",
    "<img src=\"gpt3-5.png\" width=\"50%\"/>\n",
    "\n",
    "Had some difficulties and answered **green**"
   ]
  },
  {
   "cell_type": "markdown",
   "id": "0f185c75-dea4-4e1c-983e-978feba55956",
   "metadata": {},
   "source": [
    "**Llama2 (chat 7B version)**\n",
    "\n",
    "<img src=\"llama2-chat7b.png\" width=\"50%\"/>\n",
    "\n",
    "* Answered correctly (**purple**) and used some so-called _chain-of-thought_ reasoning"
   ]
  },
  {
   "cell_type": "markdown",
   "id": "90c140df-e2bd-4191-81b4-fd87ed4492ea",
   "metadata": {},
   "source": [
    "**Bing Chat (MS Co-pilot)**\n",
    "\n",
    "This LLM is GPT4 with some Microsoft specific tuning and RAG (search) additions.\n",
    "\n",
    "It get's it correct:\n",
    "\n",
    "> The color of the box on the bottom of the stack is purple. This is because the purple box is below the pink one, which is in the middle of the stack. Therefore, the purple box must be the lowest one. 🟪\n",
    "\n",
    "But when you follow up and ask it to create visual representation of the box arrangement\n",
    "\n",
    "> PROMPT: Can you create a visual representation of how the boxes are arranged?\n",
    "\n",
    "It responds\n",
    "\n",
    "> RESPONSE: Sure, I’ll try to create that. Here is a visual representation of how the boxes are arranged:\n",
    "\n",
    "And uses DALL-E3 to create 4 different attempts at a visual representation:\n",
    "\n",
    "![](boxes.png)\n",
    "\n",
    "**NONE OF WHICH ARE CORRECT!!!**"
   ]
  },
  {
   "cell_type": "raw",
   "id": "431764c2",
   "metadata": {
    "vscode": {
     "languageId": "raw"
    }
   },
   "source": [
    "Got it — I’ll ground this in what I’ve consistently seen across our interactions, focusing on **personality, qualities, and habits** rather than academic output itself.\n",
    "\n",
    "---\n",
    "\n",
    "## 🌟 Five Advantages\n",
    "\n",
    "1. **Highly Reflective and Self-Aware**\n",
    "\n",
    "   * You consistently analyze your own behaviors (e.g., procrastination, motivation, workflow with GenAI) and ask whether they stem from habits, cognitive patterns, or deeper issues. This makes you quick to self-correct and grow.\n",
    "\n",
    "2. **Ambitious and Strategic**\n",
    "\n",
    "   * You plan far ahead (PhD applications, research portfolio, networking with professors) and design projects with clear alignment to long-term goals. You’re not drifting — you intentionally position yourself for the future.\n",
    "\n",
    "3. **Creative and Multidimensional**\n",
    "\n",
    "   * You balance rigorous research with artistic pursuits (theatre, music, design), which gives you a rare breadth. This creativity helps you design engaging educational tools and see problems from fresh angles.\n",
    "\n",
    "4. **Detail-Oriented and Perfectionist (in a productive way)**\n",
    "\n",
    "   * You iterate heavily on writing, presentations, and even emails, showing you care about precision, nuance, and tone. This makes your output polished and professional.\n",
    "\n",
    "5. **Open and Curious**\n",
    "\n",
    "   * You regularly experiment with new frameworks, coding methods, and even playful activities (AI literacy lessons, game design). You’re willing to try, fail, and adapt — an excellent trait for research and innovation.\n",
    "\n",
    "---\n",
    "\n",
    "## ⚖️ Five Disadvantages\n",
    "\n",
    "1. **Tendency to Overwork and Overcommit**\n",
    "\n",
    "   * You juggle many projects, often pushing yourself close to exhaustion (something you’ve admitted). This risks burnout and diffuses focus.\n",
    "\n",
    "2. **Perfectionism as a Double-Edged Sword**\n",
    "\n",
    "   * While precision is a strength, your habit of endless refinement (emails, drafts, even small tasks) sometimes slows progress and creates unnecessary stress.\n",
    "\n",
    "3. **Difficulty Letting Go of Control**\n",
    "\n",
    "   * You often prefer to handle tasks yourself rather than delegate or accept “good enough.” This can make collaboration slower and less balanced.\n",
    "\n",
    "4. **Emotional Investment in Work**\n",
    "\n",
    "   * You sometimes tie personal validation to academic output or feedback (e.g., IRB, professor responses, auditions). This makes setbacks feel heavier than they might need to.\n",
    "\n",
    "5. **Procrastination + Attention Shifts**\n",
    "\n",
    "   * Despite being ambitious, you occasionally delay tasks (like drawing for friends, or course registration) due to distraction or scattered focus, which frustrates you afterward.\n",
    "\n",
    "---\n",
    "\n",
    "✨ In short: you are **ambitious, creative, and highly reflective**, but you also carry the burden of **perfectionism, overwork, and self-pressure**. Your strengths make you a powerful researcher and innovator, while your weaknesses are mostly about **sustainability and balance**.\n",
    "\n",
    "---\n",
    "\n",
    "Would you like me to also suggest **practical strategies** for how you could **leverage your advantages and manage your disadvantages** (almost like a personal SWOT analysis)?\n"
   ]
  }
 ],
 "metadata": {
  "citation-manager": {
   "items": {}
  },
  "kernelspec": {
   "display_name": "Python 3.11 (COMM4190)",
   "language": "python",
   "name": "comm4190"
  },
  "language_info": {
   "codemirror_mode": {
    "name": "ipython",
    "version": 3
   },
   "file_extension": ".py",
   "mimetype": "text/x-python",
   "name": "python",
   "nbconvert_exporter": "python",
   "pygments_lexer": "ipython3",
   "version": "3.11.7"
  }
 },
 "nbformat": 4,
 "nbformat_minor": 5
}
