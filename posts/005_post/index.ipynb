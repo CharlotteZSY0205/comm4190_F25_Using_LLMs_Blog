{
 "cells": [
  {
   "cell_type": "raw",
   "id": "ceb26b6d-d77d-4a43-8a72-f9758596005e",
   "metadata": {
    "vscode": {
     "languageId": "raw"
    }
   },
   "source": [
    "---\n",
    "title: \"Can AI Help Building My Customized Website?\"\n",
    "description: \"As a programming novice, I recently decided to try something bold: building a VS Code extension with the help of AI. I wanted to document this journey because it shows both the power and the challenges of working with AI tools when you’re not an experienced developer.\"\n",
    "author: \"Shiyang Zhang\"\n",
    "date: \"09/17/2025\"\n",
    "categories:\n",
    "  - Coding\n",
    "  - Extension Devlopment\n",
    "  - Cline\n",
    "  - Codex\n",
    "image: 4cover.png\n",
    "---"
   ]
  },
  {
   "cell_type": "markdown",
   "id": "e9d7e97a-f92e-411d-8c62-1608d7820af7",
   "metadata": {},
   "source": [
    "\n",
    "I conducted the entire development process inside Visual Studio Code (VS Code), which became the central workspace for building my extension. To make this possible, I relied on an open-source coding agent called Cline. Unlike simple autocomplete tools, Cline is an agentic coding tool that integrates directly with editors like VS Code to perform complex, multi-step tasks. It can understand entire codebases, plan and implement sophisticated changes, and execute tasks by reading and editing files, running terminal commands, and even browsing the web—once you grant it permission. In other words, it functions more like a true coding collaborator than a mere assistant. In my workflow, I primarily used two large language models. The first was GPT-5 Codex, which I chose for generating the initial foundation of my project. It’s currently one of the most powerful models for coding tasks, and I trusted it to establish a strong base by producing the first version of the code. After that, I switched to GPT-5 for the following iterations and refinements. This was mainly a practical decision because GPT-5 is more cost-effective.\n",
    "\n",
    "\n",
    "### Debugging with AI\n",
    "\n",
    "At this stage, I ran into some roadblocks and I leaned on the AI to try to resolve them.\n",
    "\n",
    "> *\\[Insert prompt here]*\n",
    "\n",
    "First, I asked the agent to provide me with a **step-by-step file instructing me on how to install the extension in Quorum**. It did exactly that, using clear natural language, and everything went smoothly—at least for the most part. Along the way, I encountered a series of smaller but very real questions.\n",
    "\n",
    "The first problem came right at the beginning: on the **extension builder page in Quorum**, I didn’t even know which file I was supposed to select to add my extension. I asked the agent, and it clarified that it wasn’t the `manifest.json` file itself I needed to choose—it was the entire folder containing that file.\n",
    "\n",
    "\n",
    "\n",
    "<div style=\"display: flex; align-items: center; gap: 18px;\">\n",
    "  <img src=\"2.png\" style=\"width:40%; max-height:600px; object-fit:contain;\"/>\n",
    "  <div style=\"flex:1;\">\n",
    "    <mark>Later, after completing the installation, I expected to see some elements of my extension appear on the ChatGPT website. But when I opened the page, nothing had changed. To investigate, I opened up the DevTool of the browser, which exposed the underlying code of the site. I located the elements for the input bar in the ChatGPT interface and copied them. Then I went back to the Cline with a  question: *“I should see a button from Chrome Booster here in this section, but there’s nothing. Could you help me resolve it?”*\n",
    "  </div>\n",
    "</div>\n",
    "\n",
    "The AI took over from there, diagnosing the situation and proposing fixes that helped me move forward. It was almost as if the AI was reading my screen alongside me, guiding me through technical terrain I could never have navigated alone.\n",
    "\n",
    "\n",
    "\n",
    "\n",
    "<div style=\"display: flex; justify-content: center; gap: 16px; align-items: center;\">\n",
    "  <img src=\"1.png\" width=\"35%\"/>\n",
    "  <img src=\"2.png\" width=\"40%\"/>\n",
    "  <img src=\"4cover.png\" width=\"40%\"/>\n",
    "</div>\n",
    "\n",
    "### Part 2. Trying a Different Style\n",
    "\n",
    "\n",
    "Still not satisfied, I thought, why not just switch to a completely different style — something with more existing pictures to work with? So I asked ChatGPT to help me craft a more descriptive prompt, hoping to transform the site into something with a European impressionist aesthetic.\n",
    "\n",
    "Here’s the prompt I used:\n",
    "\n",
    "> I'm updating the design to include a classic European pattern as the background, making it more sophisticated and detailed. I'll keep you updated on the progress.\n",
    "\n",
    "The result? Let’s just say it was “acceptable” at best, but nowhere near something I’d adopt. It looked more like an assignment turned in by a beginner in web design than a polished, professional product.\n",
    "\n",
    " <img src=\"4cover.png\" width=\"40%\"/>\n",
    "\n",
    "So I decided to narrow my focus and give more specific feedback. I chose one element and asked for a precise modification with this prompt:\n",
    "\n",
    "> The design is too basic. Add classic European pattern as the background.\n",
    "\n",
    "In theory, this should have only updated the background for that single element. But in practice, the AI modified the background of every element on the page. The first cover image looked fine, but as I scrolled further, the European patterns became denser and spread across large sections of the site. Some of the text became hard to read, and the overall impression was cluttered, mismatched, and lacking any sense of elegance.\n",
    "\n",
    "<div style=\"display: flex; justify-content: center; gap: 16px; align-items: center;\">\n",
    "  <img src=\"c.png\" width=\"35%\"/>\n",
    "  <img src=\"c2.png\" width=\"40%\"/>\n",
    "  <img src=\"c3.png\" width=\"40%\"/>\n",
    "</div>\n",
    "\n",
    "\n",
    "### Conclusion\n",
    "\n",
    "That was the moment I realized the limitations of this so-called AI website generator. It can meet basic, low-level demands, but if you’re aiming for a truly sophisticated, design-driven website, this tool simply isn’t capable of delivering.\n",
    "\n",
    "So in the end, I felt like I had been a little misled by that YouTube ad. But soon after, I discovered that this tool also allows you to build a personal website by directly editing an existing template. That gave me a new idea: instead of relying on the “one-click” generator, I could start with a ready-made template that already looked polished and well-designed, and then customize it. To make the site richer, I also plan to bring in images and music generated by other AI tools. I’ll share the details of this process in my upcoming blog posts.\n",
    "\n",
    "\n"
   ]
  },
  {
   "cell_type": "markdown",
   "id": "6f20ead1",
   "metadata": {
    "vscode": {
     "languageId": "raw"
    }
   },
   "source": []
  },
  {
   "cell_type": "markdown",
   "id": "08410940",
   "metadata": {},
   "source": []
  }
 ],
 "metadata": {
  "citation-manager": {
   "items": {}
  },
  "kernelspec": {
   "display_name": "Python 3",
   "language": "python",
   "name": "python3"
  },
  "language_info": {
   "codemirror_mode": {
    "name": "ipython",
    "version": 3
   },
   "file_extension": ".py",
   "mimetype": "text/x-python",
   "name": "python",
   "nbconvert_exporter": "python",
   "pygments_lexer": "ipython3",
   "version": "3.12.1"
  }
 },
 "nbformat": 4,
 "nbformat_minor": 5
}
