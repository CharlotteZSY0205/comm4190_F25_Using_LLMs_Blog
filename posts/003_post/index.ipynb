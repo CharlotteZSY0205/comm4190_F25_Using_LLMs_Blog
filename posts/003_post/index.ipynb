{
 "cells": [
  {
   "cell_type": "raw",
   "id": "ceb26b6d-d77d-4a43-8a72-f9758596005e",
   "metadata": {
    "vscode": {
     "languageId": "raw"
    }
   },
   "source": [
    "---\n",
    "title: \"AI Can Build My Customized Website in One Click? I Wish.\"\n",
    "description: \"While watching a course video on YouTube, I came across an ad claiming that Wix could turn text into a fully designed website. The idea sounded amazing — all I had to do was describe the kind of site I wanted, and AI would instantly generate a polished, professional-looking webpage. Curious and intrigued, I decided to give it a try.\"\n",
    "author: \"Shiyang Zhang\"\n",
    "date: \"09/14/2025\"\n",
    "categories:\n",
    "  - AI\n",
    "  - prompting\n",
    "  - Design\n",
    "  - Website\n",
    "image: cover.jpg\n",
    "---"
   ]
  },
  {
   "cell_type": "markdown",
   "id": "b58618eb-dd92-483b-a802-cf2083e61d6d",
   "metadata": {},
   "source": [
    "### Part 1. Trying Out AI’s “One-Click Website”\n",
    "\n",
    "I started by selecting the **text-to-website** feature. To me, this seemed like the most beginner-friendly option — and also the feature where AI could really show its strengths. I wanted to test how effective it actually was.\n",
    "\n",
    "<div style=\"display: flex; justify-content: center; gap: 16px; align-items: center;\">\n",
    "  <img src=\"mode.png\" width=\"35%\"/>\n",
    "  <img src=\"prompt_page.png\" width=\"40%\"/>\n",
    "</div>\n",
    "\n",
    "WIX only asked me to give a simple description of my website and it didn’t require much detail. In my first attempt,I kept it extremely brief. I just wrote one sentence: “This is a website to record my dog Apple’s growth.” Surprisingly, even from that single sentence, the AI was able to break it down and generate a full design plan, including suggested content sections and layout elements. I found this feature genuinely impressive. \n",
    "\n",
    "<div style=\"text-align:center;\">\n",
    "  <img src=\"site_blueprint.png\" width=\"40%\"/>\n",
    "</div>\n",
    "\n",
    "At the same time, in addition to the AI’s automatically generated text-based website structure, it also offered me several theme color palettes to choose from. I picked one that I liked, and the system began generating the site.\n",
    "\n",
    "<div style=\"text-align:center;\">\n",
    "  <img src=\"style.png\" width=\"40%\"/>\n",
    "</div>\n",
    "\n",
    "\n",
    " To be honest, the overall result really impressed me. One thing I especially appreciated was that the AI didn’t just give me an empty framework waiting for me to fill in. Instead, it generated both text content and images right away, which gave me a very clear preview of what the website would actually look like once I started using it.\n",
    "\n",
    "<div style=\"text-align:center;\">\n",
    "<img src=\"1 copy.png\" width=\"40%\"/>\n",
    "</div>\n",
    "\n",
    "Another thing that impressed me was how precisely the system followed its own design outline and built out three separate pages: a **homepage**, a **timeline**, and a **gallery**.\n",
    "\n",
    "On the **timeline page**, I could actually view each of my posts in chronological order. \n",
    "\n",
    "<div style=\"text-align:center;\">\n",
    "<img src=\"2.png\" width=\"40%\"/>\n",
    "</div>\n",
    "\n",
    "The **gallery page** displayed all of my posts in one place, and it even allowed me to search for specific ones using keywords or tags. When I clicked on a post, I could see its detailed content.\n",
    "\n",
    "<div style=\"text-align:center;\">\n",
    "<img src=\"3.png\" width=\"40%\"/>\n",
    "</div>\n",
    "\n",
    "Even better, I was able to create new posts by uploading photos, adding a title, date, and description. \n",
    "\n",
    "<div style=\"text-align:center;\">\n",
    "<img src=\"4.png\" width=\"40%\"/>\n",
    "</div>\n",
    " \n",
    "All of these buttons were functional and clickable, which gave me the impression that the site was not just a demo but a relatively mature product. It’s certainly not something a beginner in programming or web design could put together so quickly.\n",
    "\n",
    "On top of that, once I switched into **edit mode**, I could modify every piece of text (or ask AI inserted to modify), adjust background colors, and upload my own images. In other words, the tool offered a high degree of customization.\n",
    "\n",
    "<div style=\"text-align:center;\">\n",
    "<img src=\"5.png\" width=\"40%\"/>\n",
    "</div>\n",
    "\n",
    "\n",
    "### Conclusion\n",
    "This was my very first attempt at using Wix’s AI website generator, and I have to admit — I was genuinely impressed. With nothing more than a single sentence, the system was able to produce a fully functional, multi-page website that included content, images, navigation, and interactive features. It gave me not just an empty shell but a site that felt surprisingly complete and ready to use, which was far beyond what I had expected.\n",
    "\n",
    "At the same time, this experience also left me curious. While the generated site was impressive for a first draft, it still leaned toward a conventional and structured design. In the next entries of this blog series, I’ll explore whether it’s possible to push the tool further — to see if it can create a website that is less predictable, more experimental, and infused with stronger elements of personal style.\n",
    "\n",
    "\n",
    "\n"
   ]
  }
 ],
 "metadata": {
  "citation-manager": {
   "items": {}
  },
  "kernelspec": {
   "display_name": "Python 3",
   "language": "python",
   "name": "python3"
  },
  "language_info": {
   "codemirror_mode": {
    "name": "ipython",
    "version": 3
   },
   "file_extension": ".py",
   "mimetype": "text/x-python",
   "name": "python",
   "nbconvert_exporter": "python",
   "pygments_lexer": "ipython3",
   "version": "3.12.1"
  }
 },
 "nbformat": 4,
 "nbformat_minor": 5
}
